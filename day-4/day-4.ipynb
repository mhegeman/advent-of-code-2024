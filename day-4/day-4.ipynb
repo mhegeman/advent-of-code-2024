{
 "cells": [
  {
   "cell_type": "markdown",
   "metadata": {},
   "source": [
    "# Part 1"
   ]
  },
  {
   "cell_type": "code",
   "execution_count": null,
   "metadata": {},
   "outputs": [],
   "source": [
    "def find_x_positions(grid_str):\n",
    "    positions = []\n",
    "    lines = grid_str.strip().split('\\n')\n",
    "    \n",
    "    for row in range(len(lines)):\n",
    "        for col in range(len(lines[row])):\n",
    "            if lines[row][col] == 'X':\n",
    "                positions.append((row, col))\n",
    "    \n",
    "    return positions\n"
   ]
  },
  {
   "cell_type": "code",
   "execution_count": null,
   "metadata": {},
   "outputs": [],
   "source": [
    "\n",
    "# Read and process the file\n",
    "with open('day-4-sample-data.txt', 'r') as file:\n",
    "    grid = file.read()\n",
    "    x_positions = find_x_positions(grid)\n",
    "    print(\"X positions (row, col):\", x_positions)"
   ]
  },
  {
   "cell_type": "code",
   "execution_count": 52,
   "metadata": {},
   "outputs": [],
   "source": [
    "def find_xmas_pattern(grid_str):\n",
    "    lines = grid_str.strip().split('\\n')\n",
    "    rows, cols = len(lines), len(lines[0])\n",
    "    patterns = set()\n",
    "    \n",
    "    directions = [\n",
    "        [(0,1), (0,2), (0,3)],           # right\n",
    "        [(0,-1), (0,-2), (0,-3)],        # left\n",
    "        [(1,0), (2,0), (3,0)],           # down\n",
    "        [(-1,0), (-2,0), (-3,0)],        # up\n",
    "        [(1,1), (2,2), (3,3)],           # down-right\n",
    "        [(1,-1), (2,-2), (3,-3)],        # down-left\n",
    "        [(-1,1), (-2,2), (-3,3)],        # up-right\n",
    "        [(-1,-1), (-2,-2), (-3,-3)]      # up-left\n",
    "    ]\n",
    "    \n",
    "    for row in range(rows):\n",
    "        for col in range(cols):\n",
    "            for pattern_start, expected in [('X', ['M','A','S'])]:\n",
    "                if lines[row][col] == pattern_start:\n",
    "                    for dir_set in directions:\n",
    "                        coords = [(row,col)]\n",
    "                        valid = True\n",
    "                        \n",
    "                        for i, (dr, dc) in enumerate(dir_set):\n",
    "                            new_row, new_col = row + dr, col + dc\n",
    "                            if (0 <= new_row < rows and 0 <= new_col < cols and \n",
    "                                lines[new_row][new_col] == expected[i]):\n",
    "                                coords.append((new_row, new_col))\n",
    "                            else:\n",
    "                                valid = False\n",
    "                                break\n",
    "                                \n",
    "                        if valid and len(coords) == 4:\n",
    "                            patterns.add(tuple(coords))\n",
    "    \n",
    "    return (patterns)"
   ]
  },
  {
   "cell_type": "code",
   "execution_count": 53,
   "metadata": {},
   "outputs": [
    {
     "name": "stdout",
     "output_type": "stream",
     "text": [
      "2358\n"
     ]
    }
   ],
   "source": [
    "# Read and process the file\n",
    "with open('day-4-input-data.txt', 'r') as file:\n",
    "    grid2 = file.read()\n",
    "\n",
    "print(len(find_xmas_pattern(grid2)))"
   ]
  },
  {
   "cell_type": "markdown",
   "metadata": {},
   "source": [
    "# Part 2\n",
    "\n"
   ]
  },
  {
   "cell_type": "code",
   "execution_count": 109,
   "metadata": {},
   "outputs": [],
   "source": [
    "\n",
    "\n",
    "def find_xmas_pattern2(grid_str):\n",
    "    lines = grid_str.strip().split('\\n')\n",
    "    rows, cols = len(lines), len(lines[0])\n",
    "    match = 0\n",
    "\n",
    "    for row in range(rows - 2):\n",
    "        for col in range(cols-2):\n",
    "            diag1 = lines[row][col] + lines[row +1][col+1] + lines[row + 2][col + 2]\n",
    "            if diag1 in ['MAS', 'SAM']:\n",
    "                diag2 = lines[row][col +2] + lines[row +1][col+1] + lines[row + 2][col]\n",
    "                if diag2 in ['MAS', 'SAM']:\n",
    "                    match += 1\n",
    "    return(match)\n",
    "                    \n"
   ]
  },
  {
   "cell_type": "code",
   "execution_count": 111,
   "metadata": {},
   "outputs": [
    {
     "data": {
      "text/plain": [
       "1737"
      ]
     },
     "execution_count": 111,
     "metadata": {},
     "output_type": "execute_result"
    }
   ],
   "source": [
    "find_xmas_pattern2(grid2)"
   ]
  }
 ],
 "metadata": {
  "kernelspec": {
   "display_name": "base",
   "language": "python",
   "name": "python3"
  },
  "language_info": {
   "codemirror_mode": {
    "name": "ipython",
    "version": 3
   },
   "file_extension": ".py",
   "mimetype": "text/x-python",
   "name": "python",
   "nbconvert_exporter": "python",
   "pygments_lexer": "ipython3",
   "version": "3.11.7"
  }
 },
 "nbformat": 4,
 "nbformat_minor": 2
}
