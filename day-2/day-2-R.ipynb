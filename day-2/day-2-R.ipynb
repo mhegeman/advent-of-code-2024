{
 "cells": [
  {
   "cell_type": "code",
   "execution_count": 2,
   "metadata": {},
   "outputs": [],
   "source": [
    "library(tidyverse)\n",
    "\n",
    "# Read lines and split into a list\n",
    "sample_data <- readLines(\"day-2-input.txt\") %>%\n",
    "  strsplit(\"\\\\s+\") %>%\n",
    "  lapply(as.numeric)\n",
    "\n",
    "# Convert to dataframe with 8 columns, padding with NA\n",
    "sample_data <- data.frame(\n",
    "  do.call(rbind, \n",
    "    lapply(sample_data, function(x) c(x, rep(NA, 8 - length(x))))\n",
    "  )\n",
    ") %>%\n",
    "  setNames(paste0(\"X\", 1:8))"
   ]
  },
  {
   "cell_type": "code",
   "execution_count": 3,
   "metadata": {},
   "outputs": [
    {
     "data": {
      "text/plain": [
       "    X1 X2 X3 X4 X5 X6 X7 X8\n",
       "1    6  8  9 11 14 12 NA NA\n",
       "2   31 33 36 39 42 42 NA NA\n",
       "3    5  6  7  9 11 13 17 NA\n",
       "4    7  9 12 15 17 18 21 27\n",
       "5   58 59 60 59 60 NA NA NA\n",
       "6   59 60 57 60 61 63 61 NA\n",
       "7   68 70 71 70 72 75 76 76\n",
       "8   17 18 19 21 23 22 25 29\n",
       "9   56 57 60 58 64 NA NA NA\n",
       "10  10 11 12 12 15 NA NA NA\n",
       "11  87 90 93 96 97 98 98 96\n",
       "12  40 41 44 44 45 46 46 NA\n",
       "13  72 75 75 78 79 83 NA NA\n",
       "14  77 80 80 81 88 NA NA NA\n",
       "15  43 45 48 49 50 54 56 58\n",
       "16  50 51 54 58 57 NA NA NA\n",
       "17  44 45 47 51 51 NA NA NA\n",
       "18  46 47 50 54 57 60 63 67\n",
       "19  12 15 17 21 24 29 NA NA\n",
       "20  82 83 86 92 95 NA NA NA\n",
       "21  18 21 26 29 27 NA NA NA\n",
       "22  68 71 72 74 76 83 83 NA\n",
       "23   7 10 17 20 22 26 NA NA\n",
       "24  30 31 37 38 45 NA NA NA\n",
       "25  24 21 22 24 25 26 27 NA\n",
       "26  34 31 33 34 32 NA NA NA\n",
       "27   4  3  5  6  8 10 13 13\n",
       "28  18 17 20 23 25 29 NA NA\n",
       "29  29 27 29 30 37 NA NA NA\n",
       "30  61 58 61 58 59 62 NA NA\n",
       "31  65 62 63 60 63 65 67 65\n",
       "32  13 11 13 12 12 NA NA NA\n",
       "33  25 23 20 23 26 29 31 35\n",
       "34  58 55 52 54 61 NA NA NA\n",
       "35  24 22 25 25 26 27 29 31\n",
       "36  25 22 23 24 27 27 24 NA\n",
       "37  10  8  8  9  9 NA NA NA\n",
       "38  64 63 66 66 70 NA NA NA\n",
       "39  72 71 74 74 77 83 NA NA\n",
       "40  89 86 89 92 96 99 NA NA\n",
       "41  89 87 88 92 93 96 97 95\n",
       "42  87 85 88 92 93 93 NA NA\n",
       "43  77 74 78 79 82 84 88 NA\n",
       "44  42 39 42 43 47 53 NA NA\n",
       "45  79 76 79 82 88 89 90 92\n",
       "46  58 56 59 61 63 70 72 69\n",
       "47  42 40 41 46 47 47 NA NA\n",
       "48  55 53 56 58 64 65 69 NA\n",
       "49  46 43 45 50 52 57 NA NA\n",
       "50  67 67 68 69 70 73 74 75\n",
       "51  61 61 63 65 62 NA NA NA\n",
       "52  24 24 27 30 32 32 NA NA\n",
       "53  30 30 31 32 33 36 40 NA\n",
       "54  40 40 43 45 48 50 55 NA\n",
       "55  62 62 64 66 64 66 67 NA\n",
       "56  88 88 90 93 94 95 94 93\n",
       "57  88 88 85 88 89 90 90 NA\n",
       "58  69 69 70 73 75 72 73 77\n",
       "59  10 10  7 10 12 17 NA NA\n",
       "60  12 12 14 15 15 17 20 NA\n",
       "61  14 14 16 17 19 19 22 20\n",
       "62   7  7  8  8 11 11 NA NA\n",
       "63  89 89 92 93 94 94 98 NA\n",
       "64  85 85 86 89 89 96 NA NA\n",
       "65  70 70 74 77 79 NA NA NA\n",
       "66  86 86 90 93 94 93 NA NA\n",
       "67  26 26 29 30 32 36 36 NA\n",
       "68  85 85 86 90 94 NA NA NA\n",
       "69  35 35 36 40 46 NA NA NA\n",
       "70  61 61 68 70 72 73 NA NA\n",
       "71  71 71 74 76 79 80 87 86\n",
       "72  88 88 89 92 99 99 NA NA\n",
       "73  22 22 28 30 32 35 39 NA\n",
       "74  11 11 13 19 24 NA NA NA\n",
       "75   4  8  9 11 12 15 NA NA\n",
       "76  13 17 20 23 26 29 26 NA\n",
       "77  64 68 70 71 74 74 NA NA\n",
       "78  80 84 85 88 90 91 94 98\n",
       "79  71 75 76 78 81 83 86 93\n",
       "80  34 38 41 43 40 41 43 45\n",
       "81   2  6  5  8 10  9 NA NA\n",
       "82  25 29 31 29 29 NA NA NA\n",
       "83  64 68 69 72 69 73 NA NA\n",
       "84  19 23 25 24 25 32 NA NA\n",
       "85  65 69 69 70 71 72 75 NA\n",
       "86  84 88 91 91 94 96 97 95\n",
       "87  86 90 93 93 93 NA NA NA\n",
       "88  30 34 36 37 40 40 44 NA\n",
       "89  69 73 76 78 78 79 84 NA\n",
       "90  79 83 85 89 90 93 95 NA\n",
       "91   4  8 11 12 16 13 NA NA\n",
       "92  19 23 26 30 32 33 36 36\n",
       "93  23 27 28 29 33 34 38 NA\n",
       "94  10 14 18 20 21 26 NA NA\n",
       "95  26 30 32 38 41 NA NA NA\n",
       "96  61 65 72 74 75 76 74 NA\n",
       "97  35 39 41 46 47 48 48 NA\n",
       "98  35 39 40 41 43 46 53 57\n",
       "99  57 61 68 70 75 NA NA NA\n",
       "100 80 86 87 89 91 93 NA NA\n",
       "101 59 64 67 68 71 69 NA NA\n",
       "102 33 38 41 43 43 NA NA NA\n",
       "103 55 60 61 64 65 66 67 71\n",
       "104 41 48 50 51 52 57 NA NA\n",
       "105 43 50 53 56 55 57 60 63\n",
       "106 89 94 96 99 96 97 99 98\n",
       "107 11 16 18 21 23 26 23 23\n",
       "108 54 61 64 66 67 66 70 NA\n",
       "109 28 34 35 37 36 38 40 45\n",
       "110 47 54 55 58 60 60 62 64\n",
       "111 77 84 87 89 90 90 92 90\n",
       "112 21 26 27 27 29 29 NA NA\n",
       "113 50 55 58 58 60 62 64 68\n",
       "114 10 17 18 20 20 27 NA NA\n",
       "115  8 14 18 19 22 23 25 27\n",
       "116 31 38 41 42 46 49 48 NA\n",
       "117 58 64 66 70 73 76 76 NA\n",
       "118 26 32 35 38 42 46 NA NA\n",
       "119 61 68 72 75 80 NA NA NA\n",
       "120 21 26 28 30 33 38 39 NA\n",
       "121 30 36 38 44 46 49 47 NA\n",
       "122  2  7  8 14 14 NA NA NA\n",
       "123 39 44 47 49 52 59 62 66\n",
       "124 64 71 73 80 85 NA NA NA\n",
       "125 76 75 74 72 73 NA NA NA\n",
       " [ reached 'max' / getOption(\"max.print\") -- omitted 875 rows ]"
      ]
     },
     "execution_count": null,
     "metadata": {},
     "output_type": "execute_result"
    }
   ],
   "source": [
    "sample_data"
   ]
  },
  {
   "cell_type": "code",
   "execution_count": 15,
   "metadata": {},
   "outputs": [
    {
     "ename": "",
     "evalue": "\u001b[1m\u001b[33mError\u001b[39m in `mutate()`:\u001b[22m\n\u001b[1m\u001b[22m\u001b[36mℹ\u001b[39m In argument: `d = all(diff())`.\n\u001b[36mℹ\u001b[39m In row 1.\n\u001b[1mCaused by error in `diff.default()`:\u001b[22m\n\u001b[33m!\u001b[39m argument \"x\" is missing, with no default",
     "output_type": "error",
     "traceback": [
      "\u001b[1m\u001b[33mError\u001b[39m in `mutate()`:\u001b[22m\n",
      "\u001b[1m\u001b[22m\u001b[36mℹ\u001b[39m In argument: `d = all(diff())`.\n",
      "\u001b[36mℹ\u001b[39m In row 1.\n",
      "\u001b[1mCaused by error in `diff.default()`:\u001b[22m\n",
      "\u001b[33m!\u001b[39m argument \"x\" is missing, with no default\n",
      "\u001b[90m     \u001b[39m▆\n",
      "\u001b[90m  1. \u001b[39m├─\u001b[1mdplyr\u001b[22m::mutate(...)\n",
      "\u001b[90m  2. \u001b[39m├─\u001b[1m\u001b[94mdplyr:::mutate.data.frame(\u001b[39m\u001b[22m...\u001b[1m\u001b[94m)\u001b[39m\u001b[22m\n",
      "\u001b[90m  3. \u001b[39m│ └─dplyr:::mutate_cols(.data, dplyr_quosures(...), by)\n",
      "\u001b[90m  4. \u001b[39m│   ├─\u001b[1mbase\u001b[22m::withCallingHandlers(...)\n",
      "\u001b[90m  5. \u001b[39m│   └─\u001b[1mdplyr\u001b[22m:::mutate_col(dots[[i]], data, mask, new_columns)\n",
      "\u001b[90m  6. \u001b[39m│     └─mask$eval_all_mutate(quo)\n",
      "\u001b[90m  7. \u001b[39m│       └─\u001b[1mdplyr\u001b[22m (local) eval()\n",
      "\u001b[90m  8. \u001b[39m├─\u001b[1mbase\u001b[22m::diff()\n",
      "\u001b[90m  9. \u001b[39m├─base::diff.default()\n",
      "\u001b[90m 10. \u001b[39m└─base::.handleSimpleError(...)\n",
      "\u001b[90m 11. \u001b[39m  └─\u001b[1mdplyr\u001b[22m (local) h(simpleError(msg, call))\n",
      "\u001b[90m 12. \u001b[39m    └─\u001b[1mrlang\u001b[22m::abort(message, class = error_class, parent = parent, call = error_call)"
     ]
    }
   ],
   "source": [
    "trend <- sample_data |> \n",
    "  rowwise() |> \n",
    "  mutate(\n",
    "    d = all(diff()),\n",
    "    is_increasing = all(diff(c_across(starts_with(\"X\"))) >= 0, rm.na = TRUE),\n",
    "    is_decreasing = all(diff(c_across(starts_with(\"X\"))) <= 0),\n",
    "    test1 = all(abs(diff(c_across(starts_with(\"X\")))) >= 1),\n",
    "    test3 = all(abs(diff(c_across(starts_with(\"X\")))) <= 3)\n",
    "  ) "
   ]
  },
  {
   "cell_type": "code",
   "execution_count": 12,
   "metadata": {},
   "outputs": [
    {
     "data": {
      "text/plain": [
       "\u001b[38;5;246m# A tibble: 1,000 × 12\u001b[39m\n",
       "\u001b[38;5;246m# Rowwise: \u001b[39m\n",
       "      X1    X2    X3    X4    X5    X6    X7    X8 is_increasing is_decreasing test1 test3\n",
       "   \u001b[3m\u001b[38;5;246m<dbl>\u001b[39m\u001b[23m \u001b[3m\u001b[38;5;246m<dbl>\u001b[39m\u001b[23m \u001b[3m\u001b[38;5;246m<dbl>\u001b[39m\u001b[23m \u001b[3m\u001b[38;5;246m<dbl>\u001b[39m\u001b[23m \u001b[3m\u001b[38;5;246m<dbl>\u001b[39m\u001b[23m \u001b[3m\u001b[38;5;246m<dbl>\u001b[39m\u001b[23m \u001b[3m\u001b[38;5;246m<dbl>\u001b[39m\u001b[23m \u001b[3m\u001b[38;5;246m<dbl>\u001b[39m\u001b[23m \u001b[3m\u001b[38;5;246m<lgl>\u001b[39m\u001b[23m         \u001b[3m\u001b[38;5;246m<lgl>\u001b[39m\u001b[23m         \u001b[3m\u001b[38;5;246m<lgl>\u001b[39m\u001b[23m \u001b[3m\u001b[38;5;246m<lgl>\u001b[39m\u001b[23m\n",
       "\u001b[38;5;250m 1\u001b[39m     6     8     9    11    14    12    \u001b[31mNA\u001b[39m    \u001b[31mNA\u001b[39m FALSE         FALSE         \u001b[31mNA\u001b[39m    \u001b[31mNA\u001b[39m   \n",
       "\u001b[38;5;250m 2\u001b[39m    31    33    36    39    42    42    \u001b[31mNA\u001b[39m    \u001b[31mNA\u001b[39m \u001b[31mNA\u001b[39m            FALSE         FALSE \u001b[31mNA\u001b[39m   \n",
       "\u001b[38;5;250m 3\u001b[39m     5     6     7     9    11    13    17    \u001b[31mNA\u001b[39m \u001b[31mNA\u001b[39m            FALSE         \u001b[31mNA\u001b[39m    FALSE\n",
       "\u001b[38;5;250m 4\u001b[39m     7     9    12    15    17    18    21    27 TRUE          FALSE         TRUE  FALSE\n",
       "\u001b[38;5;250m 5\u001b[39m    58    59    60    59    60    \u001b[31mNA\u001b[39m    \u001b[31mNA\u001b[39m    \u001b[31mNA\u001b[39m FALSE         FALSE         \u001b[31mNA\u001b[39m    \u001b[31mNA\u001b[39m   \n",
       "\u001b[38;5;250m 6\u001b[39m    59    60    57    60    61    63    61    \u001b[31mNA\u001b[39m FALSE         FALSE         \u001b[31mNA\u001b[39m    \u001b[31mNA\u001b[39m   \n",
       "\u001b[38;5;250m 7\u001b[39m    68    70    71    70    72    75    76    76 FALSE         FALSE         FALSE TRUE \n",
       "\u001b[38;5;250m 8\u001b[39m    17    18    19    21    23    22    25    29 FALSE         FALSE         TRUE  FALSE\n",
       "\u001b[38;5;250m 9\u001b[39m    56    57    60    58    64    \u001b[31mNA\u001b[39m    \u001b[31mNA\u001b[39m    \u001b[31mNA\u001b[39m FALSE         FALSE         \u001b[31mNA\u001b[39m    FALSE\n",
       "\u001b[38;5;250m10\u001b[39m    10    11    12    12    15    \u001b[31mNA\u001b[39m    \u001b[31mNA\u001b[39m    \u001b[31mNA\u001b[39m \u001b[31mNA\u001b[39m            FALSE         FALSE \u001b[31mNA\u001b[39m   \n",
       "\u001b[38;5;246m# ℹ 990 more rows\u001b[39m\n",
       "\u001b[38;5;246m# ℹ Use `print(n = ...)` to see more rows\u001b[39m"
      ]
     },
     "execution_count": null,
     "metadata": {},
     "output_type": "execute_result"
    }
   ],
   "source": [
    "trend"
   ]
  },
  {
   "cell_type": "code",
   "execution_count": null,
   "metadata": {},
   "outputs": [],
   "source": [
    "input_file <- here::here(\"day-2\", \"day-2\", \"day-2-input.txt\")\n",
    "input_file"
   ]
  },
  {
   "cell_type": "code",
   "execution_count": null,
   "metadata": {},
   "outputs": [],
   "source": [
    "data <- read_delim(\"day-2-input.txt\", \n",
    "                   delim = \" \",\n",
    "                   col_names = FALSE,\n",
    "                   col_types = cols(.default = col_double()),\n",
    "                   na = c(\"\")) %>%\n",
    "  setNames(paste0(\"X\", 1:10))"
   ]
  },
  {
   "cell_type": "code",
   "execution_count": null,
   "metadata": {},
   "outputs": [],
   "source": [
    "data"
   ]
  }
 ],
 "metadata": {
  "language_info": {
   "name": "r"
  }
 },
 "nbformat": 4,
 "nbformat_minor": 2
}
