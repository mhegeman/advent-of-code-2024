{
 "cells": [
  {
   "cell_type": "code",
   "execution_count": null,
   "metadata": {},
   "outputs": [],
   "source": [
    "import os\n",
    "os.getcwd()"
   ]
  },
  {
   "cell_type": "code",
   "execution_count": 1,
   "metadata": {},
   "outputs": [],
   "source": [
    "import re\n",
    "\n",
    "def read_and_process_file(filename):\n",
    "    with open(filename, 'r') as file:\n",
    "        content = file.read()\n",
    "    return content\n",
    "\n",
    "filename = \"day-3-sample-input-data.txt\"\n",
    "\n",
    "content = read_and_process_file(filename)"
   ]
  },
  {
   "cell_type": "code",
   "execution_count": null,
   "metadata": {},
   "outputs": [],
   "source": [
    "ex = re.compile(r\"mul\\((?P<first>\\d+),(?P<second>\\d+)\\)\")\n",
    "\n",
    "total = 0  # Initialize sum variable\n",
    "for match in ex.finditer(content):\n",
    "    first = int(match.group('first'))\n",
    "    second = int(match.group('second'))\n",
    "    product = first * second\n",
    "    total += product  # Add each product to the running total\n",
    "\n",
    "print(f\"Sum of all products: {total}\")"
   ]
  },
  {
   "cell_type": "code",
   "execution_count": null,
   "metadata": {},
   "outputs": [],
   "source": [
    "ex2 = re.compile(r\"mul\\((?P<first>\\d+),(?P<second>\\d+)\\)|don't\\(\\)|do\\(\\)\")\n",
    "\n",
    "total2 = 0  # Initialize sum variable\n",
    "for match in ex2.finditer(content):\n",
    "    first = int(match.group('first'))\n",
    "    second = int(match.group('second'))\n",
    "    print(first)\n",
    "    print(second)\n",
    "    product = first * second\n",
    "    total2 += product  # Add each product to the running total\n",
    "\n",
    "print(f\"Sum of all products: {total}\")"
   ]
  },
  {
   "cell_type": "code",
   "execution_count": 3,
   "metadata": {},
   "outputs": [
    {
     "name": "stdout",
     "output_type": "stream",
     "text": [
      "Matched: mul(2,4)\n",
      "Multiplying: 2 * 4 = 8\n",
      "Matched: mul(5,5)\n",
      "Multiplying: 5 * 5 = 25\n",
      "Matched: mul(11,8)\n",
      "Multiplying: 11 * 8 = 88\n",
      "Matched: mul(8,5)\n",
      "Multiplying: 8 * 5 = 40\n",
      "Sum of all products: 322\n"
     ]
    }
   ],
   "source": [
    "ex2 = re.compile(r\"mul\\((?P<first>\\d+),(?P<second>\\d+)\\)|don't\\(\\)|do\\(\\)\")\n",
    "\n",
    "for match in ex2.finditer(content):\n",
    "    matched_text = match.group(0)  # Get the full matched text\n",
    "    print(f\"Matched: {matched_text}\")  # Debug print\n",
    "    \n",
    "    if matched_text == \"don't()\":\n",
    "        print(\"Found don't()\")  # Debug print\n",
    "        should_multiply = False\n",
    "        continue\n",
    "    elif matched_text == \"do()\":\n",
    "        print(\"Found do()\")  # Debug print\n",
    "        should_multiply = True\n",
    "        continue\n",
    "    \n",
    "    # Only process multiplication if should_multiply is True\n",
    "    if should_multiply:\n",
    "        first = int(match.group('first'))\n",
    "        second = int(match.group('second'))\n",
    "        product = first * second\n",
    "        print(f\"Multiplying: {first} * {second} = {product}\")  # Debug print\n",
    "        total2 += product\n",
    "\n",
    "print(f\"Sum of all products: {total2}\")"
   ]
  }
 ],
 "metadata": {
  "kernelspec": {
   "display_name": "base",
   "language": "python",
   "name": "python3"
  },
  "language_info": {
   "codemirror_mode": {
    "name": "ipython",
    "version": 3
   },
   "file_extension": ".py",
   "mimetype": "text/x-python",
   "name": "python",
   "nbconvert_exporter": "python",
   "pygments_lexer": "ipython3",
   "version": "3.11.7"
  }
 },
 "nbformat": 4,
 "nbformat_minor": 2
}
